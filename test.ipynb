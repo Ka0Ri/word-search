{
 "cells": [
  {
   "cell_type": "code",
   "execution_count": 2,
   "metadata": {},
   "outputs": [],
   "source": [
    "from src.data.document import Document, ListOfDocuments"
   ]
  },
  {
   "cell_type": "code",
   "execution_count": 3,
   "metadata": {},
   "outputs": [],
   "source": [
    "import json\n",
    "import os\n",
    "\n",
    "path = 'dataset/NIKL_WRITTEN(v1.0)/dataset/WARW1800000007.json'\n",
    "\n",
    "json_list = []\n",
    "for path in os.listdir('dataset/NIKL_WRITTEN(v1.0)/dataset')[5:10]:\n",
    "    with open(os.path.join('dataset/NIKL_WRITTEN(v1.0)/dataset', path), 'r', encoding='utf-8') as f:\n",
    "        data = json.load(f)\n",
    "        json_list.append(data)\n",
    "\n",
    "list_of_documents = ListOfDocuments(json_list)"
   ]
  },
  {
   "cell_type": "code",
   "execution_count": 4,
   "metadata": {},
   "outputs": [],
   "source": [
    "result = list_of_documents.search(['좋다', '나쁘다', '되다'])"
   ]
  },
  {
   "cell_type": "code",
   "execution_count": 5,
   "metadata": {},
   "outputs": [],
   "source": [
    "list_of_documents.save_search_results('./')"
   ]
  },
  {
   "cell_type": "code",
   "execution_count": 6,
   "metadata": {},
   "outputs": [
    {
     "data": {
      "text/html": [
       "<div>\n",
       "<style scoped>\n",
       "    .dataframe tbody tr th:only-of-type {\n",
       "        vertical-align: middle;\n",
       "    }\n",
       "\n",
       "    .dataframe tbody tr th {\n",
       "        vertical-align: top;\n",
       "    }\n",
       "\n",
       "    .dataframe thead th {\n",
       "        text-align: right;\n",
       "    }\n",
       "</style>\n",
       "<table border=\"1\" class=\"dataframe\">\n",
       "  <thead>\n",
       "    <tr style=\"text-align: right;\">\n",
       "      <th></th>\n",
       "      <th>id</th>\n",
       "      <th>form</th>\n",
       "      <th>tokenized</th>\n",
       "    </tr>\n",
       "  </thead>\n",
       "  <tbody>\n",
       "    <tr>\n",
       "      <th>9</th>\n",
       "      <td>WZRW1900000391.1.10</td>\n",
       "      <td>질레트 면도기는 1914년 발생한 제1차 세계대전 당시 비약적으로 성장했다. 참호 ...</td>\n",
       "      <td>성장하다, 하다, 하다, 나서다, 즐기다, 하다, 되다</td>\n",
       "    </tr>\n",
       "    <tr>\n",
       "      <th>14</th>\n",
       "      <td>WZRW1900000391.1.15</td>\n",
       "      <td>실제로, 질레트가 성공한 이면에는 적극적인 마케팅 못지않게 혁신적인 양질의 제품생산...</td>\n",
       "      <td>성공하다, 못지않다, 하다, 아니다, 되다, 이르다, 이르다, 있다</td>\n",
       "    </tr>\n",
       "    <tr>\n",
       "      <th>16</th>\n",
       "      <td>WZRW1900000391.1.17</td>\n",
       "      <td>이 액수는 92년부터 99년까지 6년간 우리나라 자동차 산업의 총 연구개발 비와 맞...</td>\n",
       "      <td>맞먹다, 되다, 하다, 있다</td>\n",
       "    </tr>\n",
       "    <tr>\n",
       "      <th>17</th>\n",
       "      <td>WZRW1900000391.1.18</td>\n",
       "      <td>질레트사는 면도의 극대화를 위해 면도날 집을 끼우는 받침대와 손잡이가 만나는 부분을...</td>\n",
       "      <td>살다, 끼우다, 만나다, 바꾸다, 하다, 하다, 늘다, 달다, 있다, 이르다, 끄다...</td>\n",
       "    </tr>\n",
       "    <tr>\n",
       "      <th>19</th>\n",
       "      <td>WZRW1900000391.1.20</td>\n",
       "      <td>지난 2003년 개발된 차세대 면도기[마하3 터보(MACH3 Turbo)]역시 35...</td>\n",
       "      <td>되다, 인하다, 생기다, 줄이다, 편안하다, 하다, 있다, 되다, 늘다, 잦다, 인...</td>\n",
       "    </tr>\n",
       "  </tbody>\n",
       "</table>\n",
       "</div>"
      ],
      "text/plain": [
       "                     id                                               form  \\\n",
       "9   WZRW1900000391.1.10  질레트 면도기는 1914년 발생한 제1차 세계대전 당시 비약적으로 성장했다. 참호 ...   \n",
       "14  WZRW1900000391.1.15  실제로, 질레트가 성공한 이면에는 적극적인 마케팅 못지않게 혁신적인 양질의 제품생산...   \n",
       "16  WZRW1900000391.1.17  이 액수는 92년부터 99년까지 6년간 우리나라 자동차 산업의 총 연구개발 비와 맞...   \n",
       "17  WZRW1900000391.1.18  질레트사는 면도의 극대화를 위해 면도날 집을 끼우는 받침대와 손잡이가 만나는 부분을...   \n",
       "19  WZRW1900000391.1.20  지난 2003년 개발된 차세대 면도기[마하3 터보(MACH3 Turbo)]역시 35...   \n",
       "\n",
       "                                            tokenized  \n",
       "9                      성장하다, 하다, 하다, 나서다, 즐기다, 하다, 되다  \n",
       "14              성공하다, 못지않다, 하다, 아니다, 되다, 이르다, 이르다, 있다  \n",
       "16                                    맞먹다, 되다, 하다, 있다  \n",
       "17  살다, 끼우다, 만나다, 바꾸다, 하다, 하다, 늘다, 달다, 있다, 이르다, 끄다...  \n",
       "19  되다, 인하다, 생기다, 줄이다, 편안하다, 하다, 있다, 되다, 늘다, 잦다, 인...  "
      ]
     },
     "execution_count": 6,
     "metadata": {},
     "output_type": "execute_result"
    }
   ],
   "source": [
    "result['되다'].head(5)"
   ]
  }
 ],
 "metadata": {
  "kernelspec": {
   "display_name": "nlp",
   "language": "python",
   "name": "python3"
  },
  "language_info": {
   "codemirror_mode": {
    "name": "ipython",
    "version": 3
   },
   "file_extension": ".py",
   "mimetype": "text/x-python",
   "name": "python",
   "nbconvert_exporter": "python",
   "pygments_lexer": "ipython3",
   "version": "3.9.18"
  }
 },
 "nbformat": 4,
 "nbformat_minor": 2
}
