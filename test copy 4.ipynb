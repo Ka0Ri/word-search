{
 "cells": [
  {
   "cell_type": "code",
   "execution_count": 1,
   "metadata": {},
   "outputs": [],
   "source": [
    "from src.data.document import Document, ListOfDocuments"
   ]
  },
  {
   "cell_type": "code",
   "execution_count": 2,
   "metadata": {},
   "outputs": [],
   "source": [
    "import json\n",
    "import os\n",
    "\n",
    "documents = []\n",
    "paths = ['WBRW1900005155.json']\n",
    "for path in paths:\n",
    "    with open(os.path.join('dataset/NIKL_WRITTEN(v1.0)/dataset', path), 'r', encoding='UTF-8') as f:\n",
    "        data = json.load(f)\n",
    "        documents.append(Document(data))\n",
    "\n",
    "list_of_documents = ListOfDocuments(documents)"
   ]
  },
  {
   "cell_type": "code",
   "execution_count": 3,
   "metadata": {},
   "outputs": [],
   "source": [
    "result = list_of_documents.search(['사랑하다', '좋아하다', '아끼다', '그리워하다'])"
   ]
  },
  {
   "cell_type": "code",
   "execution_count": 6,
   "metadata": {},
   "outputs": [
    {
     "data": {
      "text/html": [
       "<div>\n",
       "<style scoped>\n",
       "    .dataframe tbody tr th:only-of-type {\n",
       "        vertical-align: middle;\n",
       "    }\n",
       "\n",
       "    .dataframe tbody tr th {\n",
       "        vertical-align: top;\n",
       "    }\n",
       "\n",
       "    .dataframe thead th {\n",
       "        text-align: right;\n",
       "    }\n",
       "</style>\n",
       "<table border=\"1\" class=\"dataframe\">\n",
       "  <thead>\n",
       "    <tr style=\"text-align: right;\">\n",
       "      <th></th>\n",
       "      <th>id</th>\n",
       "      <th>form</th>\n",
       "      <th>tokenized</th>\n",
       "    </tr>\n",
       "  </thead>\n",
       "  <tbody>\n",
       "    <tr>\n",
       "      <th>17</th>\n",
       "      <td>WBRW1900005155.1.18</td>\n",
       "      <td>마지막으로 하나님의 사랑과 기쁨이 이 책을 접하는 여러분과 함께하시길 기원한다.</td>\n",
       "      <td>[사랑, 마지막, 하다, 책, 접, 기쁨, 기원, 하나님, 이, 여러분]</td>\n",
       "    </tr>\n",
       "  </tbody>\n",
       "</table>\n",
       "</div>"
      ],
      "text/plain": [
       "                     id                                          form  \\\n",
       "17  WBRW1900005155.1.18  마지막으로 하나님의 사랑과 기쁨이 이 책을 접하는 여러분과 함께하시길 기원한다.   \n",
       "\n",
       "                                   tokenized  \n",
       "17  [사랑, 마지막, 하다, 책, 접, 기쁨, 기원, 하나님, 이, 여러분]  "
      ]
     },
     "execution_count": 6,
     "metadata": {},
     "output_type": "execute_result"
    }
   ],
   "source": [
    "result['사랑']"
   ]
  },
  {
   "cell_type": "code",
   "execution_count": 9,
   "metadata": {},
   "outputs": [
    {
     "data": {
      "text/html": [
       "<div>\n",
       "<style scoped>\n",
       "    .dataframe tbody tr th:only-of-type {\n",
       "        vertical-align: middle;\n",
       "    }\n",
       "\n",
       "    .dataframe tbody tr th {\n",
       "        vertical-align: top;\n",
       "    }\n",
       "\n",
       "    .dataframe thead th {\n",
       "        text-align: right;\n",
       "    }\n",
       "</style>\n",
       "<table border=\"1\" class=\"dataframe\">\n",
       "  <thead>\n",
       "    <tr style=\"text-align: right;\">\n",
       "      <th></th>\n",
       "      <th>id</th>\n",
       "      <th>form</th>\n",
       "      <th>tokenized</th>\n",
       "    </tr>\n",
       "  </thead>\n",
       "  <tbody>\n",
       "  </tbody>\n",
       "</table>\n",
       "</div>"
      ],
      "text/plain": [
       "Empty DataFrame\n",
       "Columns: [id, form, tokenized]\n",
       "Index: []"
      ]
     },
     "execution_count": 9,
     "metadata": {},
     "output_type": "execute_result"
    }
   ],
   "source": [
    "result['사랑']"
   ]
  },
  {
   "cell_type": "code",
   "execution_count": 60,
   "metadata": {},
   "outputs": [],
   "source": [
    "from konlpy.tag import Kkma\n",
    "kkma = Kkma()\n",
    "\n",
    "def tokenizer(doc):\n",
    "    return list(set([word for (word, particle) in kkma.pos(doc) \n",
    "                        if particle in ['VV', 'VA']]))"
   ]
  },
  {
   "cell_type": "code",
   "execution_count": 65,
   "metadata": {},
   "outputs": [
    {
     "data": {
      "text/plain": [
       "['그리워하', '다']"
      ]
     },
     "execution_count": 65,
     "metadata": {},
     "output_type": "execute_result"
    }
   ],
   "source": [
    "# kkma.pos('사랑하다')\n",
    "kkma.morphs('그리워하다')"
   ]
  },
  {
   "cell_type": "code",
   "execution_count": 62,
   "metadata": {},
   "outputs": [
    {
     "data": {
      "text/plain": [
       "['견디',\n",
       " '풀',\n",
       " '하',\n",
       " '있',\n",
       " '갈',\n",
       " '가지',\n",
       " '살아가',\n",
       " '갖',\n",
       " '가',\n",
       " '지르',\n",
       " '같',\n",
       " '되',\n",
       " '놓이',\n",
       " '말하',\n",
       " '위하',\n",
       " '대하',\n",
       " '알',\n",
       " '알리',\n",
       " '느끼',\n",
       " '푸',\n",
       " '통하',\n",
       " '부딪히',\n",
       " '보',\n",
       " '없']"
      ]
     },
     "execution_count": 62,
     "metadata": {},
     "output_type": "execute_result"
    }
   ],
   "source": [
    "tokenizer('우리는 살아가는 동안에 항상 어떤 문제에 봉착하게 되며, 이 문제를 풀지 않고서는 고통과 불만을 느끼게 된다. 다시 말해, 우리에게 부딪힌 문제는 그것을 해결하지 않고서는 견딜 수 없다. 이 경우 이 문제를 풀기 위한 가장 기본적인 관건은 앎이다. 즉, 알아야 한다. 앎을 추구하는 것은 인간의 본성이며, 이 앎을 통해 우리의 욕구는 충족된다. 우리는 이 같은 앎에 대한 요구를 ‘철학적 요구’라 하며, 이성을 가진 인간에게 있어서 이 철학적 요구는 필연적이다. 철학을 의미하는 영어의 ‘필로소피(philosophy)’가 ‘지(혜)를 사랑함(愛知)’의 뜻을 갖고 있음은 보편적으로 알려져 있으며, 이 ‘지를 사랑함’을 통해 우리에게 부딪혀 있는 문제를 해결해 가는 것이다. 이렇게 보면 철학이야말로 가장 기본적으로 우리의 현실의 바탕에 놓여 있다고 하겠다.')\n"
   ]
  },
  {
   "cell_type": "code",
   "execution_count": null,
   "metadata": {},
   "outputs": [],
   "source": [
    "# save_path = './'\n",
    "\n",
    "# xls_files = [f for f in os.listdir(save_path) if f.endswith(\".xlsx\")]\n",
    "# if len(xls_files) > 0:\n",
    "#     last_file = sorted(xls_files, reverse=True)[0]\n",
    "#     last_number = int(last_file.split(\".\")[0].split(\"-\")[-1])\n",
    "# else:\n",
    "#     last_number = 0\n",
    "# file_path = os.path.join(save_path, f\"test-{last_number+1}.xlsx\")\n",
    "\n",
    "list_of_documents.save_search_results(\"test-4000-5000.xlsx\")"
   ]
  }
 ],
 "metadata": {
  "kernelspec": {
   "display_name": "nlp",
   "language": "python",
   "name": "python3"
  },
  "language_info": {
   "codemirror_mode": {
    "name": "ipython",
    "version": 3
   },
   "file_extension": ".py",
   "mimetype": "text/x-python",
   "name": "python",
   "nbconvert_exporter": "python",
   "pygments_lexer": "ipython3",
   "version": "3.9.18"
  }
 },
 "nbformat": 4,
 "nbformat_minor": 2
}
