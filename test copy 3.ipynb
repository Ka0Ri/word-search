{
 "cells": [
  {
   "cell_type": "code",
   "execution_count": 1,
   "metadata": {},
   "outputs": [],
   "source": [
    "from src.data.document import Document, ListOfDocuments"
   ]
  },
  {
   "cell_type": "code",
   "execution_count": 2,
   "metadata": {},
   "outputs": [],
   "source": [
    "import json\n",
    "import os\n",
    "\n",
    "documents = []\n",
    "for path in os.listdir('dataset/NIKL_WRITTEN(v1.0)/dataset')[1500:2000]:\n",
    "    with open(os.path.join('dataset/NIKL_WRITTEN(v1.0)/dataset', path), 'r', encoding='utf-8') as f:\n",
    "        data = json.load(f)\n",
    "        documents.append(Document(data))\n",
    "\n",
    "list_of_documents = ListOfDocuments(documents)"
   ]
  },
  {
   "cell_type": "code",
   "execution_count": 8,
   "metadata": {},
   "outputs": [],
   "source": [
    "result = list_of_documents.search(['사랑하다', '좋아하다', '아끼다', '그리워하다'])"
   ]
  },
  {
   "cell_type": "code",
   "execution_count": 10,
   "metadata": {},
   "outputs": [],
   "source": [
    "# save_path = './'\n",
    "\n",
    "# xls_files = [f for f in os.listdir(save_path) if f.endswith(\".xlsx\")]\n",
    "# if len(xls_files) > 0:\n",
    "#     last_file = sorted(xls_files, reverse=True)[0]\n",
    "#     last_number = int(last_file.split(\".\")[0].split(\"-\")[-1])\n",
    "# else:\n",
    "#     last_number = 0\n",
    "# file_path = os.path.join(save_path, f\"test-{last_number+1}.xlsx\")\n",
    "\n",
    "list_of_documents.save_search_results(\"test-1500-2000.xlsx\")"
   ]
  }
 ],
 "metadata": {
  "kernelspec": {
   "display_name": "nlp",
   "language": "python",
   "name": "python3"
  },
  "language_info": {
   "codemirror_mode": {
    "name": "ipython",
    "version": 3
   },
   "file_extension": ".py",
   "mimetype": "text/x-python",
   "name": "python",
   "nbconvert_exporter": "python",
   "pygments_lexer": "ipython3",
   "version": "3.9.18"
  }
 },
 "nbformat": 4,
 "nbformat_minor": 2
}
